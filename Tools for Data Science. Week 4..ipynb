{
    "cells": [
        {
            "cell_type": "markdown",
            "metadata": {
                "collapsed": true
            },
            "source": "# My Jupyter Notebook on IBM Watson Studio"
        },
        {
            "cell_type": "markdown",
            "metadata": {},
            "source": "<b> Rajnish Kumar </b> \n\nmodeling "
        },
        {
            "cell_type": "markdown",
            "metadata": {},
            "source": "_Data Science leads us to the future. And I want my place in the future. That is why I am interested in DS._"
        },
        {
            "cell_type": "markdown",
            "metadata": {},
            "source": "### The next cell will calculate how much money I will pay Coursera as tution fee for course  \"data Science\":"
        },
        {
            "cell_type": "code",
            "execution_count": 9,
            "metadata": {
                "scrolled": true
            },
            "outputs": [
                {
                    "name": "stdout",
                    "output_type": "stream",
                    "text": "For Data Science course you will pay in total 152 $.\n"
                }
            ],
            "source": "import math                #importing math for math.ceil() function (rounding up).\nMonthlyFee = 38            # monthly fee in USD\nCourseLength = 11          # course length according to Coursera in month\nMyPace = 3                 # the coefficient which show how much times faster you can pass the course\nTotalFee = math.ceil(CourseLength/MyPace)*MonthlyFee # counting the fee\nprint('For Data Science course you will pay in total',TotalFee,'$.') # output the values."
        },
       
        {
            "cell_type": "code",
            "execution_count": null,
            "metadata": {},
            "outputs": [],
            "source": ""
        }
    ],
    "metadata": {
        "kernelspec": {
            "display_name": "Python 3.6",
            "language": "python",
            "name": "python3"
        },
        "language_info": {
            "codemirror_mode": {
                "name": "ipython",
                "version": 3
            },
            "file_extension": ".py",
            "mimetype": "text/x-python",
            "name": "python",
            "nbconvert_exporter": "python",
            "pygments_lexer": "ipython3",
            "version": "3.6.9"
        }
    },
    "nbformat": 4,
    "nbformat_minor": 1
}
